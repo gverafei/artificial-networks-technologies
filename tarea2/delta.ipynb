{
  "cells": [
    {
      "cell_type": "markdown",
      "metadata": {
        "colab_type": "text",
        "id": "view-in-github"
      },
      "source": [
        "<a href=\"https://colab.research.google.com/github/gverafei/artificial-networks-technologies/blob/main/tarea2/delta.ipynb\" target=\"_parent\"><img src=\"https://colab.research.google.com/assets/colab-badge.svg\" alt=\"Open In Colab\"/></a>"
      ]
    },
    {
      "cell_type": "markdown",
      "metadata": {
        "id": "3flX_YcJTu05"
      },
      "source": [
        "# **Tarea 2**\n",
        "Sep 2025\n",
        "\n"
      ]
    },
    {
      "cell_type": "markdown",
      "metadata": {
        "id": "ctzFiDtTTu07"
      },
      "source": [
        "## Configure virtual environment\n",
        "\n",
        "Only execute these lines the first time. It will ask you to create a new virtual environment. In notebook, it might ask you to select a kernel from the upper right corner."
      ]
    },
    {
      "cell_type": "code",
      "execution_count": 2,
      "metadata": {
        "id": "p1TQVRZzadcO",
        "vscode": {
          "languageId": "shellscript"
        }
      },
      "outputs": [],
      "source": [
        "!python3 -m venv .venv"
      ]
    },
    {
      "cell_type": "code",
      "execution_count": 3,
      "metadata": {
        "vscode": {
          "languageId": "shellscript"
        }
      },
      "outputs": [],
      "source": [
        "!source .venv/bin/activate # Linux/Mac\n",
        "# !.\\venv\\Scripts\\activate # Windows"
      ]
    },
    {
      "cell_type": "code",
      "execution_count": 4,
      "metadata": {
        "id": "p0PLl5W4adcP",
        "vscode": {
          "languageId": "shellscript"
        }
      },
      "outputs": [],
      "source": [
        "!pip install --upgrade pip --quiet"
      ]
    },
    {
      "cell_type": "code",
      "execution_count": 6,
      "metadata": {
        "id": "1sxfK7Z1adcQ",
        "vscode": {
          "languageId": "shellscript"
        }
      },
      "outputs": [],
      "source": [
        "!pip install prettytable tqdm --quiet"
      ]
    },
    {
      "cell_type": "code",
      "execution_count": 7,
      "metadata": {
        "vscode": {
          "languageId": "shellscript"
        }
      },
      "outputs": [],
      "source": [
        "!pip install numpy --quiet"
      ]
    },
    {
      "cell_type": "code",
      "execution_count": 8,
      "metadata": {
        "vscode": {
          "languageId": "shellscript"
        }
      },
      "outputs": [],
      "source": [
        "!pip install matplotlib --quiet"
      ]
    },
    {
      "cell_type": "markdown",
      "metadata": {},
      "source": [
        "## 1. Primero vamos a probar usando la función de numpy llamada tanh(a)."
      ]
    },
    {
      "cell_type": "code",
      "execution_count": 9,
      "metadata": {
        "vscode": {
          "languageId": "shellscript"
        }
      },
      "outputs": [
        {
          "name": "stdout",
          "output_type": "stream",
          "text": [
            "Epoch    1 | LMSE = 0.499748 | w = [-0.05820118  0.05994701  0.06174321]\n",
            "Epoch    2 | LMSE = 0.418733 | w = [-0.10869916  0.11204724  0.11544049]\n",
            "Epoch    3 | LMSE = 0.358483 | w = [-0.15207844  0.15680071  0.16154021]\n",
            "Epoch    4 | LMSE = 0.313843 | w = [-0.18969215  0.19553801  0.20136977]\n",
            "Epoch    5 | LMSE = 0.279939 | w = [-0.22284056  0.22957136  0.2362622 ]\n",
            "Epoch    6 | LMSE = 0.253334 | w = [-0.25253787  0.25994224  0.26728903]\n",
            "Epoch    7 | LMSE = 0.231808 | w = [-0.27952523  0.28742373  0.29525501]\n",
            "Epoch    8 | LMSE = 0.213932 | w = [-0.30433743  0.31258177  0.32075577]\n",
            "Epoch    9 | LMSE = 0.198769 | w = [-0.3273637   0.33583358  0.34423483]\n",
            "Epoch   10 | LMSE = 0.185688 | w = [-0.34889228  0.3574915   0.36602702]\n",
            "Epoch   11 | LMSE = 0.174244 | w = [-0.36914108  0.37779357  0.38638929]\n",
            "Epoch   12 | LMSE = 0.164121 | w = [-0.38827841  0.3969247   0.40552213]\n",
            "Epoch   13 | LMSE = 0.155083 | w = [-0.40643699  0.41503107  0.42358455]\n",
            "Epoch   14 | LMSE = 0.146951 | w = [-0.42372359  0.43223031  0.44070456]\n",
            "Epoch   15 | LMSE = 0.139587 | w = [-0.44022566  0.44861856  0.45698671]\n",
            "Epoch   16 | LMSE = 0.132882 | w = [-0.45601602  0.46427558  0.47251751]\n",
            "Epoch   17 | LMSE = 0.126747 | w = [-0.47115622  0.47926841  0.48736941]\n",
            "Epoch   18 | LMSE = 0.121110 | w = [-0.48569897  0.49365411  0.50160379]\n",
            "Epoch   19 | LMSE = 0.115913 | w = [-0.49968996  0.50748177  0.51527318]\n",
            "Epoch   20 | LMSE = 0.111105 | w = [-0.51316917  0.52079407  0.52842295]\n",
            "Epoch   21 | LMSE = 0.106645 | w = [-0.52617193  0.5336284   0.54109263]\n",
            "Epoch   22 | LMSE = 0.102495 | w = [-0.53872969  0.54601782  0.55331696]\n",
            "Epoch   23 | LMSE = 0.098626 | w = [-0.55087063  0.55799177  0.56512665]\n",
            "Epoch   24 | LMSE = 0.095010 | w = [-0.56262017  0.5695766   0.57654905]\n",
            "Epoch   25 | LMSE = 0.091624 | w = [-0.57400137  0.58079606  0.58760865]\n",
            "Epoch   26 | LMSE = 0.088447 | w = [-0.58503521  0.59167165  0.59832753]\n",
            "Epoch   27 | LMSE = 0.085461 | w = [-0.59574089  0.60222292  0.60872564]\n",
            "Epoch   28 | LMSE = 0.082650 | w = [-0.60613603  0.61246775  0.61882114]\n",
            "Epoch   29 | LMSE = 0.080000 | w = [-0.61623684  0.62242249  0.62863059]\n",
            "Epoch   30 | LMSE = 0.077497 | w = [-0.6260583   0.63210223  0.63816916]\n",
            "Epoch   31 | LMSE = 0.075131 | w = [-0.63561429  0.64152084  0.6474508 ]\n",
            "Epoch   32 | LMSE = 0.072890 | w = [-0.64491767  0.65069119  0.65648837]\n",
            "Epoch   33 | LMSE = 0.070766 | w = [-0.65398041  0.65962519  0.66529377]\n",
            "Epoch   34 | LMSE = 0.068751 | w = [-0.66281368  0.66833393  0.67387801]\n",
            "Epoch   35 | LMSE = 0.066835 | w = [-0.67142788  0.67682772  0.68225134]\n",
            "Epoch   36 | LMSE = 0.065014 | w = [-0.67983275  0.6851162   0.69042329]\n",
            "Epoch   37 | LMSE = 0.063279 | w = [-0.68803741  0.69320836  0.69840278]\n",
            "Epoch   38 | LMSE = 0.061626 | w = [-0.69605043  0.70111266  0.70619811]\n",
            "Epoch   39 | LMSE = 0.060048 | w = [-0.70387984  0.70883699  0.71381709]\n",
            "Epoch   40 | LMSE = 0.058542 | w = [-0.7115332   0.71638879  0.72126702]\n",
            "Epoch   41 | LMSE = 0.057102 | w = [-0.71901763  0.72377505  0.72855477]\n",
            "Epoch   42 | LMSE = 0.055725 | w = [-0.72633984  0.73100236  0.73568682]\n",
            "Epoch   43 | LMSE = 0.054407 | w = [-0.73350616  0.73807692  0.74266924]\n",
            "Epoch   44 | LMSE = 0.053144 | w = [-0.74052258  0.74500459  0.74950778]\n",
            "Epoch   45 | LMSE = 0.051933 | w = [-0.74739476  0.75179092  0.75620787]\n",
            "Epoch   46 | LMSE = 0.050771 | w = [-0.75412805  0.75844115  0.76277464]\n",
            "Epoch   47 | LMSE = 0.049656 | w = [-0.76072753  0.76496025  0.76921293]\n",
            "\n",
            "Convergencia alcanzada: LMSE promedio 0.049656 ≤ 0.05 en la época 47.\n",
            "\n",
            "Predicciones finales (tanh):\n",
            "x1=+1, x2=-1, x3=-1 -> y=-0.9799  (d=-1)\n",
            "x1=+1, x2=-1, x3=1 -> y=-0.6390  (d=-1)\n",
            "x1=+1, x2=+1, x3=-1 -> y=-0.6440  (d=-1)\n",
            "x1=+1, x2=+1, x3=1 -> y=+0.6489  (d=+1)\n",
            "\n",
            "Exactitud (umbral 0, bipolar): 100.0%\n",
            "\n",
            "Pesos finales: w1=-0.7607, w2=+0.7650, w3=+0.7692 (x1 es el sesgo)\n"
          ]
        }
      ],
      "source": [
        "import numpy as np\n",
        "\n",
        "# ----------------------------\n",
        "# Activación tanh y derivada (en función de y)\n",
        "# ----------------------------\n",
        "def tanh(a):\n",
        "    return np.tanh(a)\n",
        "\n",
        "def dtanh_from_y(y):\n",
        "    return 1.0 - y**2  # para y = tanh(a)\n",
        "\n",
        "# ----------------------------\n",
        "# Entrenamiento: Regla Delta (generalizada) con x1 >= 1 (sesgo embebido)\n",
        "# ----------------------------\n",
        "def train_delta_with_bias_input(\n",
        "    X,           # shape: (N, 3) -> columnas [x1, x2, x3], con x1=1.0 en todos los patrones\n",
        "    d,           # shape: (N,) -> salida deseada (bipolar: -1/+1)\n",
        "    eta=0.03,    # tasa de aprendizaje\n",
        "    eps=0.05,    # criterio de paro (LMSE <= eps)\n",
        "    max_epochs=5000,\n",
        "    activation=tanh,\n",
        "    dactivation=dtanh_from_y,\n",
        "    seed=123,\n",
        "    shuffle=False,\n",
        "    verbose=True\n",
        "):\n",
        "    \"\"\"\n",
        "    Entrena una neurona con 3 entradas [x1, x2, x3] donde x1 es el sesgo (constante 1.0).\n",
        "    Regla delta generalizada:\n",
        "        Δw = η (d - y) f'(a) x\n",
        "    \"\"\"\n",
        "    rng = np.random.default_rng(seed)\n",
        "    N, d_in = X.shape\n",
        "    assert d_in == 3, \"Se esperan tres entradas: x1 (sesgo), x2 y x3.\"\n",
        "\n",
        "    # Pesos iniciales (w1, w2, w3) en cero como en la clase\n",
        "    w = np.zeros(3, dtype=float)\n",
        "\n",
        "    lmse_hist = []\n",
        "\n",
        "    for epoch in range(1, max_epochs + 1):\n",
        "        # Barajar patrones por época (si se desea)\n",
        "        if shuffle:\n",
        "            idx = rng.permutation(N)\n",
        "            X_epoch, d_epoch = X[idx], d[idx]\n",
        "        else:\n",
        "            X_epoch, d_epoch = X, d\n",
        "\n",
        "        sq_errors = []\n",
        "\n",
        "        for x_vec, target in zip(X_epoch, d_epoch):\n",
        "            # a = w1*x1 + w2*x2 + w3*x3\n",
        "            a = np.dot(w, x_vec)\n",
        "            y = activation(a)\n",
        "            e = target - y\n",
        "            g = dactivation(y)  # f'(a)\n",
        "\n",
        "            # Δw = η e g x  (vectorial)\n",
        "            w += eta * e * g * x_vec\n",
        "\n",
        "            sq_errors.append(0.5 * e**2)\n",
        "\n",
        "        lmse = float(np.mean(sq_errors))\n",
        "        lmse_hist.append(lmse)\n",
        "\n",
        "        # if verbose and (epoch == 1 or epoch % 50 == 0 or lmse <= eps):\n",
        "        #     print(f\"Epoch {epoch:4d} | LMSE = {lmse:.6f} | w = {w}\")\n",
        "        print(f\"Epoch {epoch:4d} | LMSE = {lmse:.6f} | w = {w}\")\n",
        "\n",
        "        if lmse <= eps:\n",
        "            if verbose:\n",
        "                print(f\"\\nConvergencia alcanzada: LMSE promedio {lmse:.6f} ≤ {eps} en la época {epoch}.\")\n",
        "            return w, lmse_hist, epoch\n",
        "\n",
        "    if verbose:\n",
        "        print(\"\\nSe alcanzó max_epochs sin cumplir el criterio de paro.\")\n",
        "    return w, lmse_hist, max_epochs\n",
        "\n",
        "# ----------------------------\n",
        "# Datos: AND bipolar con sesgo como x1 = 1\n",
        "# ----------------------------\n",
        "# x1 = 1.0 (sesgo), x2, x3 en {-1, +1}\n",
        "X = np.array([\n",
        "    [+1.0, -1.0,  -1.0],  # patrón 1\n",
        "    [+1.0, -1.0,  +1.0],  # patrón 2\n",
        "    [+1.0, +1.0,  -1.0],  # patrón 3\n",
        "    [+1.0, +1.0,  +1.0],  # patrón 4\n",
        "], dtype=float)\n",
        "\n",
        "# d (salida deseada) en bipolar para AND\n",
        "# AND: solo (+1, +1) -> +1; el resto -> -1\n",
        "d = np.array([-1.0, -1.0, -1.0, +1.0], dtype=float)\n",
        "\n",
        "# ----------------------------\n",
        "# Entrenamiento\n",
        "# ----------------------------\n",
        "w, lmse_hist, epochs_ran = train_delta_with_bias_input(\n",
        "    X=X,\n",
        "    d=d,\n",
        "    eta=0.03,\n",
        "    eps=0.05,\n",
        "    max_epochs=5000,\n",
        "    activation=tanh,\n",
        "    dactivation=dtanh_from_y,\n",
        "    seed=123,\n",
        "    shuffle=False,\n",
        "    verbose=True\n",
        ")\n",
        "\n",
        "# ----------------------------\n",
        "# Evaluación final\n",
        "# ----------------------------\n",
        "def predict_with_bias_input(X, w, activation=tanh):\n",
        "    # X ya incluye x3=1 por patrón\n",
        "    a = X @ w\n",
        "    return activation(a)\n",
        "\n",
        "y_pred = predict_with_bias_input(X, w, tanh)\n",
        "\n",
        "print(\"\\nPredicciones finales (tanh):\")\n",
        "for x_vec, y_hat, target in zip(X, y_pred, d):\n",
        "    x1, x2, x3 = x_vec\n",
        "    print(f\"x1={x1:+.0f}, x2={x2:+.0f}, x3={x3:.0f} -> y={y_hat:+.4f}  (d={target:+.0f})\")\n",
        "\n",
        "# Clasificación bipolar con umbral 0\n",
        "y_cls = np.where(y_pred >= 0.0, +1.0, -1.0)\n",
        "acc = np.mean(y_cls == d)\n",
        "print(f\"\\nExactitud (umbral 0, bipolar): {acc*100:.1f}%\")\n",
        "\n",
        "print(f\"\\nPesos finales: w1={w[0]:+.4f}, w2={w[1]:+.4f}, w3={w[2]:+.4f} (x1 es el sesgo)\")\n",
        "\n",
        "\n",
        "    \n"
      ]
    },
    {
      "cell_type": "markdown",
      "metadata": {},
      "source": [
        "## 2. Luego vamos a probar usando la función que vimos en clase con exp()."
      ]
    },
    {
      "cell_type": "code",
      "execution_count": 10,
      "metadata": {
        "vscode": {
          "languageId": "shellscript"
        }
      },
      "outputs": [
        {
          "name": "stdout",
          "output_type": "stream",
          "text": [
            "Epoch    1 | LMSE = 0.499940 | w = [-0.05910016  0.05998661  0.06088614]\n",
            "Epoch    2 | LMSE = 0.457094 | w = [-0.11442979  0.11617101  0.11793026]\n",
            "Epoch    3 | LMSE = 0.419741 | w = [-0.16593236  0.16848247  0.17104989]\n",
            "Epoch    4 | LMSE = 0.387464 | w = [-0.21375701  0.21706089  0.22037773]\n",
            "Epoch    5 | LMSE = 0.359650 | w = [-0.25817382  0.26217121  0.26617513]\n",
            "Epoch    6 | LMSE = 0.335639 | w = [-0.29950575  0.30413435  0.30876219]\n",
            "Epoch    7 | LMSE = 0.314810 | w = [-0.33808347  0.34328129  0.34847098]\n",
            "Epoch    8 | LMSE = 0.296624 | w = [-0.37421986  0.37992676  0.38561859]\n",
            "Epoch    9 | LMSE = 0.280628 | w = [-0.40819805  0.41435675  0.42049425]\n",
            "Epoch   10 | LMSE = 0.266453 | w = [-0.44026767  0.44682442  0.45335475]\n",
            "Epoch   11 | LMSE = 0.253798 | w = [-0.47064563  0.47755047  0.48442466]\n",
            "Epoch   12 | LMSE = 0.242422 | w = [-0.49951882  0.50672573  0.51389873]\n",
            "Epoch   13 | LMSE = 0.232127 | w = [-0.5270478   0.53451463  0.54194524]\n",
            "Epoch   14 | LMSE = 0.222756 | w = [-0.55337036  0.56105875  0.56870942]\n",
            "Epoch   15 | LMSE = 0.214178 | w = [-0.5786049   0.58648007  0.59431675]\n",
            "Epoch   16 | LMSE = 0.206287 | w = [-0.60285345  0.61088399  0.6188759 ]\n",
            "Epoch   17 | LMSE = 0.198996 | w = [-0.62620422  0.63436183  0.64248123]\n",
            "Epoch   18 | LMSE = 0.192231 | w = [-0.64873374  0.65699304  0.66521498]\n",
            "Epoch   19 | LMSE = 0.185930 | w = [-0.67050872  0.67884697  0.68714906]\n",
            "Epoch   20 | LMSE = 0.180043 | w = [-0.69158756  0.69998445  0.70834666]\n",
            "Epoch   21 | LMSE = 0.174526 | w = [-0.71202159  0.720459    0.72886345]\n",
            "Epoch   22 | LMSE = 0.169340 | w = [-0.73185616  0.740318    0.74874872]\n",
            "Epoch   23 | LMSE = 0.164454 | w = [-0.75113149  0.75960345  0.76804629]\n",
            "Epoch   24 | LMSE = 0.159840 | w = [-0.76988341  0.77835286  0.78679521]\n",
            "Epoch   25 | LMSE = 0.155473 | w = [-0.78814399  0.79659974  0.80503048]\n",
            "Epoch   26 | LMSE = 0.151332 | w = [-0.80594205  0.81437426  0.82278354]\n",
            "Epoch   27 | LMSE = 0.147399 | w = [-0.82330357  0.83170359  0.84008274]\n",
            "Epoch   28 | LMSE = 0.143658 | w = [-0.8402521   0.84861235  0.85695375]\n",
            "Epoch   29 | LMSE = 0.140092 | w = [-0.85680902  0.86512289  0.87341989]\n",
            "Epoch   30 | LMSE = 0.136690 | w = [-0.87299384  0.88125559  0.88950237]\n",
            "Epoch   31 | LMSE = 0.133440 | w = [-0.88882444  0.89702908  0.9052206 ]\n",
            "Epoch   32 | LMSE = 0.130330 | w = [-0.90431722  0.91246047  0.92059237]\n",
            "Epoch   33 | LMSE = 0.127353 | w = [-0.91948729  0.92756549  0.93563401]\n",
            "Epoch   34 | LMSE = 0.124499 | w = [-0.9343486   0.94235863  0.9503606 ]\n",
            "Epoch   35 | LMSE = 0.121760 | w = [-0.94891409  0.95685335  0.96478604]\n",
            "Epoch   36 | LMSE = 0.119129 | w = [-0.96319579  0.97106208  0.97892324]\n",
            "Epoch   37 | LMSE = 0.116601 | w = [-0.97720488  0.98499642  0.99278418]\n",
            "Epoch   38 | LMSE = 0.114168 | w = [-0.9909518   0.99866716  1.00638   ]\n",
            "Epoch   39 | LMSE = 0.111825 | w = [-1.00444635  1.01208439  1.01972111]\n",
            "Epoch   40 | LMSE = 0.109569 | w = [-1.01769768  1.02525756  1.03281722]\n",
            "Epoch   41 | LMSE = 0.107393 | w = [-1.03071441  1.03819552  1.04567745]\n",
            "Epoch   42 | LMSE = 0.105293 | w = [-1.04350466  1.05090661  1.05831034]\n",
            "Epoch   43 | LMSE = 0.103266 | w = [-1.05607606  1.06339866  1.07072392]\n",
            "Epoch   44 | LMSE = 0.101308 | w = [-1.06843586  1.07567906  1.08292577]\n",
            "Epoch   45 | LMSE = 0.099415 | w = [-1.08059088  1.08775482  1.09492302]\n",
            "Epoch   46 | LMSE = 0.097585 | w = [-1.09254761  1.09963253  1.10672243]\n",
            "Epoch   47 | LMSE = 0.095814 | w = [-1.1043122   1.11131848  1.11833038]\n",
            "Epoch   48 | LMSE = 0.094100 | w = [-1.11589051  1.1228186   1.12975292]\n",
            "Epoch   49 | LMSE = 0.092439 | w = [-1.12728808  1.13413855  1.14099579]\n",
            "Epoch   50 | LMSE = 0.090830 | w = [-1.13851023  1.1452837   1.15206445]\n",
            "Epoch   51 | LMSE = 0.089270 | w = [-1.14956201  1.15625919  1.1629641 ]\n",
            "Epoch   52 | LMSE = 0.087758 | w = [-1.16044826  1.16706988  1.17369967]\n",
            "Epoch   53 | LMSE = 0.086290 | w = [-1.17117358  1.17772046  1.18427588]\n",
            "Epoch   54 | LMSE = 0.084865 | w = [-1.18174239  1.18821537  1.19469723]\n",
            "Epoch   55 | LMSE = 0.083482 | w = [-1.19215893  1.19855888  1.20496803]\n",
            "Epoch   56 | LMSE = 0.082138 | w = [-1.20242725  1.20875507  1.21509238]\n",
            "Epoch   57 | LMSE = 0.080832 | w = [-1.21255123  1.21880786  1.22507422]\n",
            "Epoch   58 | LMSE = 0.079562 | w = [-1.22253462  1.228721    1.23491733]\n",
            "Epoch   59 | LMSE = 0.078328 | w = [-1.232381    1.23849809  1.24462533]\n",
            "Epoch   60 | LMSE = 0.077127 | w = [-1.24209381  1.24814259  1.25420169]\n",
            "Epoch   61 | LMSE = 0.075958 | w = [-1.25167639  1.25765782  1.26364974]\n",
            "Epoch   62 | LMSE = 0.074821 | w = [-1.26113193  1.267047    1.27297269]\n",
            "Epoch   63 | LMSE = 0.073713 | w = [-1.2704635   1.27631319  1.28217362]\n",
            "Epoch   64 | LMSE = 0.072635 | w = [-1.27967407  1.28545938  1.29125551]\n",
            "Epoch   65 | LMSE = 0.071584 | w = [-1.2887665  1.2944884  1.3002212]\n",
            "Epoch   66 | LMSE = 0.070560 | w = [-1.29774356  1.30340303  1.30907347]\n",
            "Epoch   67 | LMSE = 0.069561 | w = [-1.30660792  1.31220593  1.31781495]\n",
            "Epoch   68 | LMSE = 0.068588 | w = [-1.31536214  1.32089965  1.32644822]\n",
            "Epoch   69 | LMSE = 0.067638 | w = [-1.32400872  1.32948669  1.33497574]\n",
            "Epoch   70 | LMSE = 0.066712 | w = [-1.33255007  1.33796945  1.34339991]\n",
            "Epoch   71 | LMSE = 0.065808 | w = [-1.34098851  1.34635023  1.35172304]\n",
            "Epoch   72 | LMSE = 0.064926 | w = [-1.3493263   1.35463128  1.35994736]\n",
            "Epoch   73 | LMSE = 0.064064 | w = [-1.35756562  1.36281478  1.36807502]\n",
            "Epoch   74 | LMSE = 0.063223 | w = [-1.36570857  1.37090281  1.37610811]\n",
            "Epoch   75 | LMSE = 0.062401 | w = [-1.37375721  1.37889743  1.38404867]\n",
            "Epoch   76 | LMSE = 0.061598 | w = [-1.38171352  1.38680058  1.39189864]\n",
            "Epoch   77 | LMSE = 0.060814 | w = [-1.38957943  1.3946142   1.39965992]\n",
            "Epoch   78 | LMSE = 0.060047 | w = [-1.39735679  1.40234012  1.40733435]\n",
            "Epoch   79 | LMSE = 0.059297 | w = [-1.40504742  1.40998014  1.41492372]\n",
            "Epoch   80 | LMSE = 0.058564 | w = [-1.41265307  1.41753601  1.42242975]\n",
            "Epoch   81 | LMSE = 0.057847 | w = [-1.42017545  1.42500942  1.42985412]\n",
            "Epoch   82 | LMSE = 0.057146 | w = [-1.42761621  1.432402    1.43719846]\n",
            "Epoch   83 | LMSE = 0.056459 | w = [-1.43497697  1.43971536  1.44446435]\n",
            "Epoch   84 | LMSE = 0.055787 | w = [-1.44225928  1.44695104  1.45165332]\n",
            "Epoch   85 | LMSE = 0.055130 | w = [-1.44946467  1.45411055  1.45876687]\n",
            "Epoch   86 | LMSE = 0.054486 | w = [-1.4565946   1.46119534  1.46580645]\n",
            "Epoch   87 | LMSE = 0.053856 | w = [-1.46365053  1.46820685  1.47277346]\n",
            "Epoch   88 | LMSE = 0.053238 | w = [-1.47063383  1.47514645  1.47966928]\n",
            "Epoch   89 | LMSE = 0.052634 | w = [-1.47754588  1.4820155   1.48649524]\n",
            "Epoch   90 | LMSE = 0.052041 | w = [-1.48438799  1.48881529  1.49325263]\n",
            "Epoch   91 | LMSE = 0.051461 | w = [-1.49116145  1.49554711  1.49994272]\n",
            "Epoch   92 | LMSE = 0.050892 | w = [-1.49786752  1.50221219  1.50656673]\n",
            "Epoch   93 | LMSE = 0.050334 | w = [-1.50450741  1.50881175  1.51312586]\n",
            "Epoch   94 | LMSE = 0.049787 | w = [-1.51108232  1.51534695  1.51962128]\n",
            "\n",
            "Convergencia alcanzada: LMSE promedio 0.049787 ≤ 0.05 en la época 94.\n",
            "\n",
            "Predicciones finales (tanh):\n",
            "x1=+1, x2=-1, x3=-1 -> y=-0.9998  (d=-1)\n",
            "x1=+1, x2=-1, x3=1 -> y=-0.9064  (d=-1)\n",
            "x1=+1, x2=+1, x3=-1 -> y=-0.9079  (d=-1)\n",
            "x1=+1, x2=+1, x3=1 -> y=+0.9094  (d=+1)\n",
            "\n",
            "Exactitud (umbral 0, bipolar): 100.0%\n",
            "\n",
            "Pesos finales: w1=-1.5111, w2=+1.5153, w3=+1.5196 (x1 es el sesgo)\n"
          ]
        }
      ],
      "source": [
        "import math as math\n",
        "import numpy as np\n",
        "\n",
        "# ----------------------------\n",
        "# Activación tanh y derivada (en función de y)\n",
        "# ----------------------------\n",
        "\n",
        "def tanh_from_class(a):\n",
        "    return (1 - math.exp(-a)) / (1 + math.exp(-a))\n",
        "\n",
        "# ----------------------------\n",
        "# Entrenamiento: Regla Delta (generalizada) con x1 >= 1 (sesgo embebido)\n",
        "# ----------------------------\n",
        "def train_delta_with_bias_input(\n",
        "    X,           # shape: (N, 3) -> columnas [x1, x2, x3], con x1=1.0 en todos los patrones\n",
        "    d,           # shape: (N,) -> salida deseada (bipolar: -1/+1)\n",
        "    eta=0.03,    # tasa de aprendizaje\n",
        "    eps=0.05,    # criterio de paro (LMSE <= eps)\n",
        "    max_epochs=5000,\n",
        "    activation=tanh,\n",
        "    dactivation=dtanh_from_y,\n",
        "    seed=123,\n",
        "    shuffle=False,\n",
        "    verbose=True\n",
        "):\n",
        "    \"\"\"\n",
        "    Entrena una neurona con 3 entradas [x1, x2, x3] donde x1 es el sesgo (constante 1.0).\n",
        "    Regla delta generalizada:\n",
        "        Δw = η (d - y) f'(a) x\n",
        "    \"\"\"\n",
        "    rng = np.random.default_rng(seed)\n",
        "    N, d_in = X.shape\n",
        "    assert d_in == 3, \"Se esperan tres entradas: x1 (sesgo), x2 y x3.\"\n",
        "\n",
        "    # Pesos iniciales (w1, w2, w3) en cero como en la clase\n",
        "    w = np.zeros(3, dtype=float)\n",
        "\n",
        "    lmse_hist = []\n",
        "\n",
        "    for epoch in range(1, max_epochs + 1):\n",
        "        # Barajar patrones por época (si se desea)\n",
        "        if shuffle:\n",
        "            idx = rng.permutation(N)\n",
        "            X_epoch, d_epoch = X[idx], d[idx]\n",
        "        else:\n",
        "            X_epoch, d_epoch = X, d\n",
        "\n",
        "        sq_errors = []\n",
        "\n",
        "        for x_vec, target in zip(X_epoch, d_epoch):\n",
        "            # a = w1*x1 + w2*x2 + w3*x3\n",
        "            a = np.dot(w, x_vec)\n",
        "            y = activation(a)\n",
        "            e = target - y\n",
        "            g = dactivation(y)  # f'(a)\n",
        "\n",
        "            # Δw = η e g x  (vectorial)\n",
        "            w += eta * e * g * x_vec\n",
        "\n",
        "            sq_errors.append(0.5 * e**2)\n",
        "\n",
        "        lmse = float(np.mean(sq_errors))\n",
        "        lmse_hist.append(lmse)\n",
        "\n",
        "        # if verbose and (epoch == 1 or epoch % 50 == 0 or lmse <= eps):\n",
        "        #     print(f\"Epoch {epoch:4d} | LMSE = {lmse:.6f} | w = {w}\")\n",
        "        print(f\"Epoch {epoch:4d} | LMSE = {lmse:.6f} | w = {w}\")\n",
        "\n",
        "        if lmse <= eps:\n",
        "            if verbose:\n",
        "                print(f\"\\nConvergencia alcanzada: LMSE promedio {lmse:.6f} ≤ {eps} en la época {epoch}.\")\n",
        "            return w, lmse_hist, epoch\n",
        "\n",
        "    if verbose:\n",
        "        print(\"\\nSe alcanzó max_epochs sin cumplir el criterio de paro.\")\n",
        "    return w, lmse_hist, max_epochs\n",
        "\n",
        "# ----------------------------\n",
        "# Datos: AND bipolar con sesgo como x1 = 1\n",
        "# ----------------------------\n",
        "# x1 = 1.0 (sesgo), x2, x3 en {-1, +1}\n",
        "X = np.array([\n",
        "    [+1.0, -1.0,  -1.0],  # patrón 1\n",
        "    [+1.0, -1.0,  +1.0],  # patrón 2\n",
        "    [+1.0, +1.0,  -1.0],  # patrón 3\n",
        "    [+1.0, +1.0,  +1.0],  # patrón 4\n",
        "], dtype=float)\n",
        "\n",
        "# d (salida deseada) en bipolar para AND\n",
        "# AND: solo (+1, +1) -> +1; el resto -> -1\n",
        "d = np.array([-1.0, -1.0, -1.0, +1.0], dtype=float)\n",
        "\n",
        "# ----------------------------\n",
        "# Entrenamiento\n",
        "# ----------------------------\n",
        "w, lmse_hist, epochs_ran = train_delta_with_bias_input(\n",
        "    X=X,\n",
        "    d=d,\n",
        "    eta=0.03,\n",
        "    eps=0.05,\n",
        "    max_epochs=5000,\n",
        "    activation=tanh_from_class,\n",
        "    dactivation=dtanh_from_y,\n",
        "    seed=123,\n",
        "    shuffle=False,\n",
        "    verbose=True\n",
        ")\n",
        "\n",
        "# ----------------------------\n",
        "# Evaluación final\n",
        "# ----------------------------\n",
        "def predict_with_bias_input(X, w, activation=tanh):\n",
        "    # X ya incluye x3=1 por patrón\n",
        "    a = X @ w\n",
        "    return activation(a)\n",
        "\n",
        "y_pred = predict_with_bias_input(X, w, tanh)\n",
        "\n",
        "print(\"\\nPredicciones finales (tanh):\")\n",
        "for x_vec, y_hat, target in zip(X, y_pred, d):\n",
        "    x1, x2, x3 = x_vec\n",
        "    print(f\"x1={x1:+.0f}, x2={x2:+.0f}, x3={x3:.0f} -> y={y_hat:+.4f}  (d={target:+.0f})\")\n",
        "\n",
        "# Clasificación bipolar con umbral 0\n",
        "y_cls = np.where(y_pred >= 0.0, +1.0, -1.0)\n",
        "acc = np.mean(y_cls == d)\n",
        "print(f\"\\nExactitud (umbral 0, bipolar): {acc*100:.1f}%\")\n",
        "\n",
        "print(f\"\\nPesos finales: w1={w[0]:+.4f}, w2={w[1]:+.4f}, w3={w[2]:+.4f} (x1 es el sesgo)\")\n"
      ]
    },
    {
      "cell_type": "markdown",
      "metadata": {},
      "source": [
        "## Esto es adicional: Graficamos LMSE Vs Ephocs para ver la convergencia de Delta"
      ]
    },
    {
      "cell_type": "code",
      "execution_count": 11,
      "metadata": {
        "vscode": {
          "languageId": "shellscript"
        }
      },
      "outputs": [
        {
          "data": {
            "image/png": "[encoded data removed]",
            "text/plain": [
              "<Figure size 800x500 with 1 Axes>"
            ]
          },
          "metadata": {},
          "output_type": "display_data"
        }
      ],
      "source": [
        "# === Gráfica LMSE vs Epoch ===\n",
        "import matplotlib.pyplot as plt\n",
        "import numpy as np\n",
        "\n",
        "eps_used = 0.05  # mismo epsilon que se usó en el entrenamiento\n",
        "epochs = np.arange(1, len(lmse_hist) + 1)\n",
        "\n",
        "plt.figure(figsize=(8, 5))\n",
        "plt.plot(epochs, lmse_hist, marker='o', linewidth=1)\n",
        "plt.axhline(y=eps_used, color='red', linestyle='--', label=f'ε = {eps_used}')\n",
        "plt.axvline(x=epochs_ran, color='green', linestyle=':', label=f'Convergencia en época {epochs_ran}')\n",
        "\n",
        "plt.title('Delta learning: LMSE vs Epoch')\n",
        "plt.xlabel('Epoch')\n",
        "plt.ylabel('LMSE')\n",
        "plt.grid(True)\n",
        "plt.legend()\n",
        "plt.tight_layout()\n",
        "\n",
        "# Guardar imagen\n",
        "plt.savefig(\"figures/convergencia.png\", dpi=500)\n",
        "plt.show()\n"
      ]
    }
  ],
  "metadata": {
    "colab": {
      "include_colab_link": true,
      "provenance": []
    },
    "kernelspec": {
      "display_name": ".venv",
      "language": "python",
      "name": "python3"
    },
    "language_info": {
      "codemirror_mode": {
        "name": "ipython",
        "version": 3
      },
      "file_extension": ".py",
      "mimetype": "text/x-python",
      "name": "python",
      "nbconvert_exporter": "python",
      "pygments_lexer": "ipython3",
      "version": "3.13.2"
    }
  },
  "nbformat": 4,
  "nbformat_minor": 0
}
