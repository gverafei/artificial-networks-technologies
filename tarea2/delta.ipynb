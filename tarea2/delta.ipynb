{
  "cells": [
    {
      "cell_type": "markdown",
      "metadata": {
        "colab_type": "text",
        "id": "view-in-github"
      },
      "source": [
        "<a href=\"https://colab.research.google.com/github/gverafei/artificial-networks-technologies/blob/main/tarea2/delta.ipynb\" target=\"_parent\"><img src=\"https://colab.research.google.com/assets/colab-badge.svg\" alt=\"Open In Colab\"/></a>"
      ]
    },
    {
      "cell_type": "markdown",
      "metadata": {
        "id": "3flX_YcJTu05"
      },
      "source": [
        "# **Tarea 2**\n",
        "Sep 2025\n",
        "\n"
      ]
    },
    {
      "cell_type": "markdown",
      "metadata": {
        "id": "ctzFiDtTTu07"
      },
      "source": [
        "## Configure virtual environment\n",
        "\n",
        "Only execute these lines the first time. It will ask you to create a new virtual environment. In notebook, it might ask you to select a kernel from the upper right corner."
      ]
    },
    {
      "cell_type": "code",
      "execution_count": 1,
      "metadata": {
        "id": "p1TQVRZzadcO",
        "vscode": {
          "languageId": "shellscript"
        }
      },
      "outputs": [],
      "source": [
        "!python3 -m venv .venv"
      ]
    },
    {
      "cell_type": "code",
      "execution_count": 2,
      "metadata": {
        "vscode": {
          "languageId": "shellscript"
        }
      },
      "outputs": [],
      "source": [
        "!source .venv/bin/activate # Linux/Mac\n",
        "# !.\\venv\\Scripts\\activate # Windows"
      ]
    },
    {
      "cell_type": "code",
      "execution_count": 2,
      "metadata": {
        "id": "p0PLl5W4adcP",
        "vscode": {
          "languageId": "shellscript"
        }
      },
      "outputs": [],
      "source": [
        "!pip install --upgrade pip --quiet"
      ]
    },
    {
      "cell_type": "code",
      "execution_count": 3,
      "metadata": {
        "id": "1sxfK7Z1adcQ",
        "vscode": {
          "languageId": "shellscript"
        }
      },
      "outputs": [],
      "source": [
        "!pip install prettytable tqdm --quiet"
      ]
    },
    {
      "cell_type": "code",
      "execution_count": 4,
      "metadata": {
        "vscode": {
          "languageId": "shellscript"
        }
      },
      "outputs": [
        {
          "name": "stdout",
          "output_type": "stream",
          "text": [
            "Note: you may need to restart the kernel to use updated packages.\n"
          ]
        }
      ],
      "source": [
        "pip install numpy --quiet"
      ]
    },
    {
      "cell_type": "code",
      "execution_count": 18,
      "metadata": {
        "vscode": {
          "languageId": "shellscript"
        }
      },
      "outputs": [
        {
          "name": "stdout",
          "output_type": "stream",
          "text": [
            "Epoch    1 | LMSE = 0.499748 | w = [-0.05820118  0.05994701  0.06174321]\n",
            "Epoch    2 | LMSE = 0.418733 | w = [-0.10869916  0.11204724  0.11544049]\n",
            "Epoch    3 | LMSE = 0.358483 | w = [-0.15207844  0.15680071  0.16154021]\n",
            "Epoch    4 | LMSE = 0.313843 | w = [-0.18969215  0.19553801  0.20136977]\n",
            "Epoch    5 | LMSE = 0.279939 | w = [-0.22284056  0.22957136  0.2362622 ]\n",
            "Epoch    6 | LMSE = 0.253334 | w = [-0.25253787  0.25994224  0.26728903]\n",
            "Epoch    7 | LMSE = 0.231808 | w = [-0.27952523  0.28742373  0.29525501]\n",
            "Epoch    8 | LMSE = 0.213932 | w = [-0.30433743  0.31258177  0.32075577]\n",
            "Epoch    9 | LMSE = 0.198769 | w = [-0.3273637   0.33583358  0.34423483]\n",
            "Epoch   10 | LMSE = 0.185688 | w = [-0.34889228  0.3574915   0.36602702]\n",
            "Epoch   11 | LMSE = 0.174244 | w = [-0.36914108  0.37779357  0.38638929]\n",
            "Epoch   12 | LMSE = 0.164121 | w = [-0.38827841  0.3969247   0.40552213]\n",
            "Epoch   13 | LMSE = 0.155083 | w = [-0.40643699  0.41503107  0.42358455]\n",
            "Epoch   14 | LMSE = 0.146951 | w = [-0.42372359  0.43223031  0.44070456]\n",
            "Epoch   15 | LMSE = 0.139587 | w = [-0.44022566  0.44861856  0.45698671]\n",
            "Epoch   16 | LMSE = 0.132882 | w = [-0.45601602  0.46427558  0.47251751]\n",
            "Epoch   17 | LMSE = 0.126747 | w = [-0.47115622  0.47926841  0.48736941]\n",
            "Epoch   18 | LMSE = 0.121110 | w = [-0.48569897  0.49365411  0.50160379]\n",
            "Epoch   19 | LMSE = 0.115913 | w = [-0.49968996  0.50748177  0.51527318]\n",
            "Epoch   20 | LMSE = 0.111105 | w = [-0.51316917  0.52079407  0.52842295]\n",
            "Epoch   21 | LMSE = 0.106645 | w = [-0.52617193  0.5336284   0.54109263]\n",
            "Epoch   22 | LMSE = 0.102495 | w = [-0.53872969  0.54601782  0.55331696]\n",
            "Epoch   23 | LMSE = 0.098626 | w = [-0.55087063  0.55799177  0.56512665]\n",
            "Epoch   24 | LMSE = 0.095010 | w = [-0.56262017  0.5695766   0.57654905]\n",
            "Epoch   25 | LMSE = 0.091624 | w = [-0.57400137  0.58079606  0.58760865]\n",
            "Epoch   26 | LMSE = 0.088447 | w = [-0.58503521  0.59167165  0.59832753]\n",
            "Epoch   27 | LMSE = 0.085461 | w = [-0.59574089  0.60222292  0.60872564]\n",
            "Epoch   28 | LMSE = 0.082650 | w = [-0.60613603  0.61246775  0.61882114]\n",
            "Epoch   29 | LMSE = 0.080000 | w = [-0.61623684  0.62242249  0.62863059]\n",
            "Epoch   30 | LMSE = 0.077497 | w = [-0.6260583   0.63210223  0.63816916]\n",
            "Epoch   31 | LMSE = 0.075131 | w = [-0.63561429  0.64152084  0.6474508 ]\n",
            "Epoch   32 | LMSE = 0.072890 | w = [-0.64491767  0.65069119  0.65648837]\n",
            "Epoch   33 | LMSE = 0.070766 | w = [-0.65398041  0.65962519  0.66529377]\n",
            "Epoch   34 | LMSE = 0.068751 | w = [-0.66281368  0.66833393  0.67387801]\n",
            "Epoch   35 | LMSE = 0.066835 | w = [-0.67142788  0.67682772  0.68225134]\n",
            "Epoch   36 | LMSE = 0.065014 | w = [-0.67983275  0.6851162   0.69042329]\n",
            "Epoch   37 | LMSE = 0.063279 | w = [-0.68803741  0.69320836  0.69840278]\n",
            "Epoch   38 | LMSE = 0.061626 | w = [-0.69605043  0.70111266  0.70619811]\n",
            "Epoch   39 | LMSE = 0.060048 | w = [-0.70387984  0.70883699  0.71381709]\n",
            "Epoch   40 | LMSE = 0.058542 | w = [-0.7115332   0.71638879  0.72126702]\n",
            "Epoch   41 | LMSE = 0.057102 | w = [-0.71901763  0.72377505  0.72855477]\n",
            "Epoch   42 | LMSE = 0.055725 | w = [-0.72633984  0.73100236  0.73568682]\n",
            "Epoch   43 | LMSE = 0.054407 | w = [-0.73350616  0.73807692  0.74266924]\n",
            "Epoch   44 | LMSE = 0.053144 | w = [-0.74052258  0.74500459  0.74950778]\n",
            "Epoch   45 | LMSE = 0.051933 | w = [-0.74739476  0.75179092  0.75620787]\n",
            "Epoch   46 | LMSE = 0.050771 | w = [-0.75412805  0.75844115  0.76277464]\n",
            "Epoch   47 | LMSE = 0.049656 | w = [-0.76072753  0.76496025  0.76921293]\n",
            "\n",
            "Convergencia alcanzada: LMSE ≤ 0.05 en la época 47.\n",
            "\n",
            "Predicciones finales (tanh):\n",
            "x1=+1, x2=-1, x3=-1 -> y=-0.9799  (d=-1)\n",
            "x1=+1, x2=-1, x3=1 -> y=-0.6390  (d=-1)\n",
            "x1=+1, x2=+1, x3=-1 -> y=-0.6440  (d=-1)\n",
            "x1=+1, x2=+1, x3=1 -> y=+0.6489  (d=+1)\n",
            "\n",
            "Exactitud (umbral 0, bipolar): 100.0%\n",
            "\n",
            "Pesos finales: w1=-0.7607, w2=+0.7650, w3=+0.7692 (x1 es el sesgo)\n"
          ]
        }
      ],
      "source": [
        "import numpy as np\n",
        "\n",
        "# ----------------------------\n",
        "# Activación tanh y derivada (en función de y)\n",
        "# ----------------------------\n",
        "def tanh(a):\n",
        "    return np.tanh(a)\n",
        "\n",
        "def dtanh_from_y(y):\n",
        "    return 1.0 - y**2  # para y = tanh(a)\n",
        "\n",
        "# ----------------------------\n",
        "# Entrenamiento: Regla Delta (generalizada) con x1 >= 1 (sesgo embebido)\n",
        "# ----------------------------\n",
        "def train_delta_with_bias_input(\n",
        "    X,           # shape: (N, 3) -> columnas [x1, x2, x3], con x1=1.0 en todos los patrones\n",
        "    d,           # shape: (N,) -> salida deseada (bipolar: -1/+1)\n",
        "    eta=0.03,    # tasa de aprendizaje\n",
        "    eps=0.05,    # criterio de paro (LMSE <= eps)\n",
        "    max_epochs=5000,\n",
        "    activation=tanh,\n",
        "    dactivation=dtanh_from_y,\n",
        "    seed=123,\n",
        "    shuffle=False,\n",
        "    verbose=True\n",
        "):\n",
        "    \"\"\"\n",
        "    Entrena una neurona con 3 entradas [x1, x2, x3] donde x1 es el sesgo (constante 1.0).\n",
        "    Regla delta generalizada:\n",
        "        Δw = η (d - y) f'(a) x\n",
        "    \"\"\"\n",
        "    rng = np.random.default_rng(seed)\n",
        "    N, d_in = X.shape\n",
        "    assert d_in == 3, \"Se esperan tres entradas: x1 (sesgo), x2 y x3.\"\n",
        "\n",
        "    # Pesos iniciales (w1, w2, w3) en cero como en la clase\n",
        "    w = np.zeros(3, dtype=float)\n",
        "\n",
        "    lmse_hist = []\n",
        "\n",
        "    for epoch in range(1, max_epochs + 1):\n",
        "        # Barajar patrones por época (si se desea)\n",
        "        if shuffle:\n",
        "            idx = rng.permutation(N)\n",
        "            X_epoch, d_epoch = X[idx], d[idx]\n",
        "        else:\n",
        "            X_epoch, d_epoch = X, d\n",
        "\n",
        "        sq_errors = []\n",
        "\n",
        "        for x_vec, target in zip(X_epoch, d_epoch):\n",
        "            # a = w1*x1 + w2*x2 + w3*x3\n",
        "            a = np.dot(w, x_vec)\n",
        "            y = activation(a)\n",
        "            e = target - y\n",
        "            g = dactivation(y)  # f'(a)\n",
        "\n",
        "            # Δw = η e g x  (vectorial)\n",
        "            w += eta * e * g * x_vec\n",
        "\n",
        "            sq_errors.append(0.5 * e**2)\n",
        "\n",
        "        lmse = float(np.mean(sq_errors))\n",
        "        lmse_hist.append(lmse)\n",
        "\n",
        "        # if verbose and (epoch == 1 or epoch % 50 == 0 or lmse <= eps):\n",
        "        #     print(f\"Epoch {epoch:4d} | LMSE = {lmse:.6f} | w = {w}\")\n",
        "        print(f\"Epoch {epoch:4d} | LMSE = {lmse:.6f} | w = {w}\")\n",
        "\n",
        "        if lmse <= eps:\n",
        "            if verbose:\n",
        "                print(f\"\\nConvergencia alcanzada: LMSE ≤ {eps} en la época {epoch}.\")\n",
        "            return w, lmse_hist, epoch\n",
        "\n",
        "    if verbose:\n",
        "        print(\"\\nSe alcanzó max_epochs sin cumplir el criterio de paro.\")\n",
        "    return w, lmse_hist, max_epochs\n",
        "\n",
        "# ----------------------------\n",
        "# Datos: AND bipolar con sesgo como x3 = 1\n",
        "# ----------------------------\n",
        "# x1 = 1.0 (sesgo), x2, x3 en {-1, +1}\n",
        "X = np.array([\n",
        "    [+1.0, -1.0,  -1.0],  # patrón 1\n",
        "    [+1.0, -1.0,  +1.0],  # patrón 2\n",
        "    [+1.0, +1.0,  -1.0],  # patrón 3\n",
        "    [+1.0, +1.0,  +1.0],  # patrón 4\n",
        "], dtype=float)\n",
        "\n",
        "# d (salida deseada) en bipolar para AND\n",
        "# AND: solo (+1, +1) -> +1; el resto -> -1\n",
        "d = np.array([-1.0, -1.0, -1.0, +1.0], dtype=float)\n",
        "\n",
        "# ----------------------------\n",
        "# Entrenamiento\n",
        "# ----------------------------\n",
        "w, lmse_hist, epochs_ran = train_delta_with_bias_input(\n",
        "    X=X,\n",
        "    d=d,\n",
        "    eta=0.03,\n",
        "    eps=0.05,\n",
        "    max_epochs=5000,\n",
        "    activation=tanh,\n",
        "    dactivation=dtanh_from_y,\n",
        "    seed=123,\n",
        "    shuffle=False,\n",
        "    verbose=True\n",
        ")\n",
        "\n",
        "# ----------------------------\n",
        "# Evaluación final\n",
        "# ----------------------------\n",
        "def predict_with_bias_input(X, w, activation=tanh):\n",
        "    # X ya incluye x3=1 por patrón\n",
        "    a = X @ w\n",
        "    return activation(a)\n",
        "\n",
        "y_pred = predict_with_bias_input(X, w, tanh)\n",
        "\n",
        "print(\"\\nPredicciones finales (tanh):\")\n",
        "for x_vec, y_hat, target in zip(X, y_pred, d):\n",
        "    x1, x2, x3 = x_vec\n",
        "    print(f\"x1={x1:+.0f}, x2={x2:+.0f}, x3={x3:.0f} -> y={y_hat:+.4f}  (d={target:+.0f})\")\n",
        "\n",
        "# Clasificación bipolar con umbral 0\n",
        "y_cls = np.where(y_pred >= 0.0, +1.0, -1.0)\n",
        "acc = np.mean(y_cls == d)\n",
        "print(f\"\\nExactitud (umbral 0, bipolar): {acc*100:.1f}%\")\n",
        "\n",
        "print(f\"\\nPesos finales: w1={w[0]:+.4f}, w2={w[1]:+.4f}, w3={w[2]:+.4f} (x1 es el sesgo)\")\n"
      ]
    }
  ],
  "metadata": {
    "colab": {
      "include_colab_link": true,
      "provenance": []
    },
    "kernelspec": {
      "display_name": ".venv",
      "language": "python",
      "name": "python3"
    },
    "language_info": {
      "codemirror_mode": {
        "name": "ipython",
        "version": 3
      },
      "file_extension": ".py",
      "mimetype": "text/x-python",
      "name": "python",
      "nbconvert_exporter": "python",
      "pygments_lexer": "ipython3",
      "version": "3.13.2"
    }
  },
  "nbformat": 4,
  "nbformat_minor": 0
}
